{
 "cells": [
  {
   "cell_type": "code",
   "execution_count": 5,
   "metadata": {},
   "outputs": [
    {
     "data": {
      "text/plain": [
       "'<h1>?info? About</h1>\\n<p>Hey!<br />\\nAs I said on the <a href=\"/home\">home</a> page my name is Vano.   <br />\\nMy website is formatted with <code>.md</code> files and supports latex both inline, <span class=\"arithmatex\"><span class=\"MathJax_Preview\">e^x</span><script type=\"math/tex\">e^x</script></span> and display.<br />\\n<span class=\"arithmatex\"><span class=\"MathJax_Preview\"><span class=\"arithmatex\"><span class=\"MathJax_Preview\">\\\\begin{equation}S(\\\\omega)=1.467 H_s^2 \\\\frac{\\\\omega_0^5}{\\\\omega^6} \\\\exp\\\\Bigl[-3^{\\\\frac{\\\\omega}{\\\\omega_0}}\\\\Bigr]^2\\\\end{equation}</span><script type=\"math/tex\">\\\\begin{equation}S(\\\\omega)=1.467 H_s^2 \\\\frac{\\\\omega_0^5}{\\\\omega^6} \\\\exp\\\\Bigl[-3^{\\\\frac{\\\\omega}{\\\\omega_0}}\\\\Bigr]^2\\\\end{equation}</script></span></span><script type=\"math/tex\"><span class=\"arithmatex\"><span class=\"MathJax_Preview\">\\\\begin{equation}S(\\\\omega)=1.467 H_s^2 \\\\frac{\\\\omega_0^5}{\\\\omega^6} \\\\exp\\\\Bigl[-3^{\\\\frac{\\\\omega}{\\\\omega_0}}\\\\Bigr]^2\\\\end{equation}</span><script type=\"math/tex\">\\\\begin{equation}S(\\\\omega)=1.467 H_s^2 \\\\frac{\\\\omega_0^5}{\\\\omega^6} \\\\exp\\\\Bigl[-3^{\\\\frac{\\\\omega}{\\\\omega_0}}\\\\Bigr]^2\\\\end{equation}</script></span></script></span>\\nCool huh?</p>'"
      ]
     },
     "execution_count": 5,
     "metadata": {},
     "output_type": "execute_result"
    }
   ],
   "source": [
    "import markdown\n",
    "with open('content/index/about.md', 'r') as f:\n",
    "        text = f.read()\n",
    "        md = markdown.Markdown(extensions=['pymdownx.arithmatex'])\n",
    "        t= md.convert(text)\n",
    "\n",
    "t\n"
   ]
  }
 ],
 "metadata": {
  "kernelspec": {
   "display_name": ".venv",
   "language": "python",
   "name": "python3"
  },
  "language_info": {
   "codemirror_mode": {
    "name": "ipython",
    "version": 3
   },
   "file_extension": ".py",
   "mimetype": "text/x-python",
   "name": "python",
   "nbconvert_exporter": "python",
   "pygments_lexer": "ipython3",
   "version": "3.10.12"
  }
 },
 "nbformat": 4,
 "nbformat_minor": 2
}
